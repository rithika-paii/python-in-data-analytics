{
  "cells": [
    {
      "cell_type": "markdown",
      "metadata": {
        "id": "view-in-github",
        "colab_type": "text"
      },
      "source": [
        "<a href=\"https://colab.research.google.com/github/rithika-paii/python-in-data-analytics/blob/main/manipulatingStrings.ipynb\" target=\"_parent\"><img src=\"https://colab.research.google.com/assets/colab-badge.svg\" alt=\"Open In Colab\"/></a>"
      ]
    },
    {
      "cell_type": "markdown",
      "metadata": {
        "id": "dkrziMQjhIHS"
      },
      "source": [
        "![openclassrooms](https://s3.eu-west-1.amazonaws.com/course.oc-static.com/courses/6204541/1+HnqdJ-5ofxiPP9HIxdNdpw.jpeg)\n",
        "\n",
        "# Learn Python Basics for Data Analysis\n",
        "\n",
        "## Object-oriented Programming\n",
        "\n",
        "<br><br>\n",
        "\n",
        "**String Methods**\n",
        "\n",
        "Let the variable `mySentence` be the following:\n"
      ]
    },
    {
      "cell_type": "code",
      "execution_count": 1,
      "metadata": {
        "id": "_06gPXKKhIHY"
      },
      "outputs": [],
      "source": [
        "mySentence = 'I AM EXCITED!!'"
      ]
    },
    {
      "cell_type": "markdown",
      "metadata": {
        "id": "BwdQMsWThIHZ"
      },
      "source": [
        "Use a string method to transform the variable `mySentence` to lowercase:"
      ]
    },
    {
      "cell_type": "code",
      "execution_count": 2,
      "metadata": {
        "id": "-W_m_a44hIHa",
        "outputId": "2f3aa750-ba79-431b-fa90-edba1ad4782b",
        "colab": {
          "base_uri": "https://localhost:8080/",
          "height": 36
        }
      },
      "outputs": [
        {
          "output_type": "execute_result",
          "data": {
            "text/plain": [
              "'i am excited!!'"
            ],
            "application/vnd.google.colaboratory.intrinsic+json": {
              "type": "string"
            }
          },
          "metadata": {},
          "execution_count": 2
        }
      ],
      "source": [
        "mySentence.lower()"
      ]
    },
    {
      "cell_type": "markdown",
      "metadata": {
        "id": "eXwoKC5dhIHa"
      },
      "source": [
        "Replace the **...** with an expression that uses the `mySentence` variable to print: `I am calm!!`\n"
      ]
    },
    {
      "cell_type": "code",
      "execution_count": 5,
      "metadata": {
        "id": "Rh6-pbhUhIHb",
        "outputId": "d99212e3-29ed-43f5-c5b1-7591f297e326",
        "colab": {
          "base_uri": "https://localhost:8080/"
        }
      },
      "outputs": [
        {
          "output_type": "stream",
          "name": "stdout",
          "text": [
            "i am calm!!\n"
          ]
        }
      ],
      "source": [
        "print(mySentence.replace('EXCITED', 'calm').lower())"
      ]
    },
    {
      "cell_type": "code",
      "source": [],
      "metadata": {
        "id": "nV0zQtpPHInP"
      },
      "execution_count": null,
      "outputs": []
    }
  ],
  "metadata": {
    "colab": {
      "name": "P2C4 ex.ipynb",
      "provenance": [],
      "include_colab_link": true
    },
    "kernelspec": {
      "display_name": "Python 3.9.7 ('base')",
      "language": "python",
      "name": "python3"
    },
    "language_info": {
      "codemirror_mode": {
        "name": "ipython",
        "version": 3
      },
      "file_extension": ".py",
      "mimetype": "text/x-python",
      "name": "python",
      "nbconvert_exporter": "python",
      "pygments_lexer": "ipython3",
      "version": "3.9.7"
    },
    "vscode": {
      "interpreter": {
        "hash": "0d5b2adc70bf0954b7415f3bc8543415bd6d361c5e0c2c03226caf4972d8a62d"
      }
    }
  },
  "nbformat": 4,
  "nbformat_minor": 0
}